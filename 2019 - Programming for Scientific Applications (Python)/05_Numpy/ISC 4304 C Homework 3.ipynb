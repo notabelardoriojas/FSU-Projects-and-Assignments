{
 "cells": [
  {
   "cell_type": "code",
   "execution_count": 1,
   "metadata": {},
   "outputs": [
    {
     "name": "stdout",
     "output_type": "stream",
     "text": [
      "[1 2 3 4 5]\n",
      "[1 2 3 4 5]\n",
      "[1 2 3 4 5]\n",
      "1\n",
      "2\n",
      "a\n",
      "3\n",
      "\n",
      "1.0\n",
      "2.0\n",
      "a\n",
      "is not a valid number\n",
      "3.0\n",
      "\n"
     ]
    }
   ],
   "source": [
    "#1: Use numpy to solve the following\n",
    "\t#(a) Generate the numpy vector [1 2 3 4 5] in 3 (three) different ways!\n",
    "import numpy as np\n",
    "\n",
    "a = np.array([1,2,3,4,5])\n",
    "print a\n",
    "b = np.zeros(5, dtype = int)\n",
    "for i in range(0,5):\n",
    "\tb[i] = i+1\n",
    "print b\n",
    "c = np.arange(1,6)\n",
    "print c\n",
    "\n",
    "#2. Create a file that has these lines:\n",
    "\t#1\n",
    "\t#2\n",
    "\t#a\n",
    "\t#3\n",
    "\n",
    "#3. Read the file into your notebook and print the lines\n",
    "with open('hw3.txt', 'r+') as f:\n",
    "\tcontents = f.read()\n",
    "\tprint contents\n",
    "#4. Read the lines and convert each entry to float and then print\n",
    "\tf.seek(0)\n",
    "\twith open('hw3copy.txt','r+') as wf:\n",
    "\t\tfor line in f:\n",
    "\t\t\ttry:\n",
    "\t\t\t\tnline = float(line)\n",
    "\t\t\t\twf.write(str(nline) + \"\\n\")\n",
    "\t\t\texcept ValueError:\n",
    "\t\t\t\twf.write(line + \"is not a valid number\\n\")\n",
    "\t\twf.seek(0)\n",
    "\t\twcontents = wf.read()\n",
    "\t\tprint wcontents\n"
   ]
  },
  {
   "cell_type": "code",
   "execution_count": null,
   "metadata": {},
   "outputs": [],
   "source": []
  }
 ],
 "metadata": {
  "kernelspec": {
   "display_name": "Python 2",
   "language": "python",
   "name": "python2"
  },
  "language_info": {
   "codemirror_mode": {
    "name": "ipython",
    "version": 2
   },
   "file_extension": ".py",
   "mimetype": "text/x-python",
   "name": "python",
   "nbconvert_exporter": "python",
   "pygments_lexer": "ipython2",
   "version": "2.7.5"
  }
 },
 "nbformat": 4,
 "nbformat_minor": 2
}
