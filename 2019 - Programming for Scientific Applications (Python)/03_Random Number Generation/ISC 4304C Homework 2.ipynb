{
 "cells": [
  {
   "cell_type": "code",
   "execution_count": 56,
   "metadata": {},
   "outputs": [],
   "source": [
    "#Write a function middlesquare(seed) that codes a random number generator that was first\n",
    "#proposed by John von Neumann in the late forties.\n",
    "def middlesquare(seed):\n",
    "    seedSq = str(seed*seed)\n",
    "    if len(seedSq) % 2 == 0:\n",
    "        #take out middle six digits\n",
    "        firsthalf = len(seedSq)/ 2 - 3 \n",
    "        secondhalf = len(seedSq)/2 + 3\n",
    "        seedSq = seedSq[firsthalf:secondhalf]\n",
    "    else:\n",
    "        seedSq = seedSq[:-1]\n",
    "        firsthalf = len(seedSq)/2 - 3 \n",
    "        secondhalf = len(seedSq)/2 + 3\n",
    "        seedSq = seedSq[firsthalf:secondhalf]\n",
    "    return int(seedSq)\n",
    "i = 1\n",
    "seed = 123456\n",
    "xVals = []\n",
    "while i < 10001:\n",
    "    seed = middlesquare(seed)\n",
    "    xVals.append(seed)\n",
    "    #print str(i) + \": \" + str(seed)\n",
    "    i += 1\n",
    "#Plot a histogram of 10,000 of these random numbers, make sure to label the axes, also use\n",
    "#the option to make this a probability distribution (aka the histogram integrates to 1.0).\n",
    "import matplotlib.pyplot as plt\n",
    "plt.subplot(121)\n",
    "plt.hist(xVals, color = 'c', normed = True)\n",
    "plt.xlabel('middlesqaure number')\n",
    "plt.ylabel('probability')\n",
    "#Plot 1000 pairs of these random numbers in a X/Y plot. Make sure the axes are labeled.\n",
    "import random\n",
    "j = 1\n",
    "Xvals = []\n",
    "Yvals = []\n",
    "while j < 1001:\n",
    "    Xvals.append(xVals[random.randint(1,10000)])\n",
    "    Yvals.append(xVals[random.randint(1,10000)])\n",
    "    j += 1\n",
    "plt.subplot(122)\n",
    "plt.scatter(Xvals,Yvals)\n",
    "plt.xlabel('X value')\n",
    "plt.ylabel('Y value')\n",
    "plt.show()\n",
    "\n",
    "        \n",
    "    "
   ]
  }
 ],
 "metadata": {
  "kernelspec": {
   "display_name": "Python 2",
   "language": "python",
   "name": "python2"
  },
  "language_info": {
   "codemirror_mode": {
    "name": "ipython",
    "version": 2
   },
   "file_extension": ".py",
   "mimetype": "text/x-python",
   "name": "python",
   "nbconvert_exporter": "python",
   "pygments_lexer": "ipython2",
   "version": "2.7.5"
  }
 },
 "nbformat": 4,
 "nbformat_minor": 2
}
