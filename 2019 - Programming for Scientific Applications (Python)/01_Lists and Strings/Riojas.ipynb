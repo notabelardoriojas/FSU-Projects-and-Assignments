{
 "cells": [
  {
   "cell_type": "code",
   "execution_count": 50,
   "metadata": {},
   "outputs": [
    {
     "name": "stdout",
     "output_type": "stream",
     "text": [
      "[2, 4, 6, 8, 10, 12, 14, 16]\n"
     ]
    }
   ],
   "source": [
    "#Write a command that produces this output List: 2 4 6 8 10 12 16\n",
    "print [2*xi for xi in range (1,9)]"
   ]
  },
  {
   "cell_type": "code",
   "execution_count": 49,
   "metadata": {},
   "outputs": [
    {
     "name": "stdout",
     "output_type": "stream",
     "text": [
      "[201, 191, 181, 171, 161]\n"
     ]
    }
   ],
   "source": [
    "#Write a command that produces this output List: 201 191 181 171\n",
    "list = []\n",
    "x = range (160,210)\n",
    "for xi in x:\n",
    "    if xi % 10 == 0:\n",
    "        list.append(xi+1)\n",
    "list.reverse()\n",
    "print list"
   ]
  },
  {
   "cell_type": "code",
   "execution_count": null,
   "metadata": {},
   "outputs": [],
   "source": [
    "#Combine two strings and print the three strings\n",
    "string1 = \"The quick brown fox \"\n",
    "string2 = \"jumps over the lazy dog\"\n",
    "\n",
    "string3 = string1 + string2\n",
    "\n",
    "print (string1, string2, string3)"
   ]
  },
  {
   "cell_type": "code",
   "execution_count": 20,
   "metadata": {},
   "outputs": [
    {
     "name": "stdout",
     "output_type": "stream",
     "text": [
      "491\n"
     ]
    }
   ],
   "source": [
    "#Sum up 10 random number (look at our calculation of Pi for that) and present the result\n",
    "import random\n",
    "nRand = []\n",
    "i = 0\n",
    "while i <= 9:\n",
    "    nRand.append(random.randint(1,101))\n",
    "    i += 1\n",
    "sum = 0\n",
    "for number in nRand:\n",
    "    sum += number\n",
    "print sum\n"
   ]
  },
  {
   "cell_type": "code",
   "execution_count": 48,
   "metadata": {},
   "outputs": [
    {
     "name": "stdout",
     "output_type": "stream",
     "text": [
      "k = 10. Calculation = 2.92896825397\n",
      "k = 1000. Calculation = 7.48547086055\n",
      "k = 10000. Calculation = 9.78760603604\n"
     ]
    }
   ],
   "source": [
    "#Present a result for this calculation: k = infinity sigma k = 1. 1/k\n",
    "def calculation(fin):\n",
    "    sum = 0\n",
    "    for xi in range(1, fin):\n",
    "         sum += float(1)/float(xi)\n",
    "    return sum\n",
    "\n",
    "print \"k = 10. Calculation = \" + str(calculation(11)) \n",
    "print \"k = 1000. Calculation = \" + str(calculation(1001)) \n",
    "print \"k = 10000. Calculation = \" + str(calculation(10001)) "
   ]
  }
 ],
 "metadata": {
  "kernelspec": {
   "display_name": "Python 2",
   "language": "python",
   "name": "python2"
  },
  "language_info": {
   "codemirror_mode": {
    "name": "ipython",
    "version": 2
   },
   "file_extension": ".py",
   "mimetype": "text/x-python",
   "name": "python",
   "nbconvert_exporter": "python",
   "pygments_lexer": "ipython2",
   "version": "2.7.5"
  }
 },
 "nbformat": 4,
 "nbformat_minor": 2
}
